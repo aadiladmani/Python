{
 "cells": [
  {
   "cell_type": "code",
   "execution_count": 4,
   "id": "3106e846",
   "metadata": {},
   "outputs": [
    {
     "name": "stdout",
     "output_type": "stream",
     "text": [
      "\n",
      "All Student Records:\n",
      "(92301733016, 'ASHUTOSH KUMAR SINGH', 'PWP', 98)\n",
      "(92301733017, 'HARSH VISHALBHAI TRIVEDI', 'PWP', 85)\n",
      "(92301733027, 'VIRAJ PRAKASHBHAI VAGHASIYA', 'PWP', 90)\n",
      "(92301733046, 'SHIVAM ATULKUMAR BHATT', 'PWP', 93)\n",
      "\n",
      "Average Mark per Student:\n",
      "ASHUTOSH KUMAR SINGH: 98.00\n",
      "HARSH VISHALBHAI TRIVEDI: 85.00\n",
      "VIRAJ PRAKASHBHAI VAGHASIYA: 90.00\n",
      "SHIVAM ATULKUMAR BHATT: 93.00\n"
     ]
    }
   ],
   "source": [
    "import sqlite3\n",
    "\n",
    "# Connect to or create the database\n",
    "conn = sqlite3.connect('student_record.db')\n",
    "cursor = conn.cursor()\n",
    "\n",
    "# Create the table (if not exists)\n",
    "cursor.execute('''\n",
    "    CREATE TABLE IF NOT EXISTS student_record (\n",
    "        Enrollment INTEGER,\n",
    "        name TEXT NOT NULL,\n",
    "        subject TEXT NOT NULL,\n",
    "        Mark INTEGER NOT NULL,\n",
    "        PRIMARY KEY (Enrollment, subject)\n",
    "    )\n",
    "''')\n",
    "conn.commit()\n",
    "\n",
    "# --- DELETE ALL EXISTING RECORDS TO REMOVE ANY OLD DATA ---\n",
    "cursor.execute('DELETE FROM student_record')\n",
    "conn.commit()\n",
    "\n",
    "# --- INSERT ONLY GIVEN STUDENTS WITH PWP SUBJECT ---\n",
    "\n",
    "students_pwp = [\n",
    "    (92301733016, 'ASHUTOSH KUMAR SINGH', 'PWP', 98),\n",
    "    (92301733017, 'HARSH VISHALBHAI TRIVEDI', 'PWP', 85),\n",
    "    (92301733027, 'VIRAJ PRAKASHBHAI VAGHASIYA', 'PWP', 90),\n",
    "    (92301733046, 'SHIVAM ATULKUMAR BHATT', 'PWP', 93)\n",
    "]\n",
    "\n",
    "# Insert records\n",
    "cursor.executemany('''\n",
    "    INSERT INTO student_record (Enrollment, name, subject, Mark)\n",
    "    VALUES (?, ?, ?, ?)\n",
    "''', students_pwp)\n",
    "conn.commit()\n",
    "\n",
    "# --- FETCH ALL RECORDS ---\n",
    "cursor.execute('SELECT * FROM student_record')\n",
    "rows = cursor.fetchall()\n",
    "print(\"\\nAll Student Records:\")\n",
    "for row in rows:\n",
    "    print(row)\n",
    "\n",
    "# --- CALCULATE AVERAGE MARK PER STUDENT ---\n",
    "cursor.execute('''\n",
    "    SELECT name, AVG(Mark) as avg_mark\n",
    "    FROM student_record\n",
    "    GROUP BY Enrollment\n",
    "''')\n",
    "print(\"\\nAverage Mark per Student:\")\n",
    "for name, avg_mark in cursor.fetchall():\n",
    "    print(f\"{name}: {avg_mark:.2f}\")\n",
    "\n",
    "# --- CLOSE CONNECTION ---\n",
    "conn.close()\n"
   ]
  }
 ],
 "metadata": {
  "kernelspec": {
   "display_name": "Python 3",
   "language": "python",
   "name": "python3"
  },
  "language_info": {
   "codemirror_mode": {
    "name": "ipython",
    "version": 3
   },
   "file_extension": ".py",
   "mimetype": "text/x-python",
   "name": "python",
   "nbconvert_exporter": "python",
   "pygments_lexer": "ipython3",
   "version": "3.13.2"
  }
 },
 "nbformat": 4,
 "nbformat_minor": 5
}
